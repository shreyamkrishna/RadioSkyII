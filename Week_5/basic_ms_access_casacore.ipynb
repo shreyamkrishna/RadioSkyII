{
 "cells": [
  {
   "cell_type": "code",
   "execution_count": 1,
   "id": "6d9af0fc",
   "metadata": {},
   "outputs": [
    {
     "name": "stdout",
     "output_type": "stream",
     "text": [
      "Populating the interactive namespace from numpy and matplotlib\n"
     ]
    }
   ],
   "source": [
    "%pylab inline\n",
    "from casacore.tables import table"
   ]
  },
  {
   "cell_type": "markdown",
   "id": "175bf772",
   "metadata": {},
   "source": [
    "The goal of this tutorial is to introduce the student to the `tables` module of the `casacore` library. This module, in particular the `tables.table()` function allows access to the visibility data stored in a measurement set."
   ]
  },
  {
   "cell_type": "code",
   "execution_count": 2,
   "id": "59f8c8a1",
   "metadata": {},
   "outputs": [],
   "source": [
    "vis = \"kat-7-small.ms\" # create variable that refers to the measurement set"
   ]
  },
  {
   "cell_type": "markdown",
   "id": "65f90bfa",
   "metadata": {},
   "source": [
    "The `tables.table()` function takes the name (or path) of a measurement set and returns an object that can be used to access the *main table* of the measurement set. Here I store this object in an variable called `tab`"
   ]
  },
  {
   "cell_type": "code",
   "execution_count": 3,
   "id": "06aa2096",
   "metadata": {},
   "outputs": [
    {
     "name": "stdout",
     "output_type": "stream",
     "text": [
      "Successful readonly open of default-locked table kat-7-small.ms: 22 columns, 23820 rows\n"
     ]
    }
   ],
   "source": [
    "tab = table(vis)"
   ]
  },
  {
   "cell_type": "markdown",
   "id": "53a4a194",
   "metadata": {},
   "source": [
    "The `tab` object has a number of useful functions, but we will only explore the main ones here. Let's start with the `tab.colnames()` function which returns the names of the columns in the MS"
   ]
  },
  {
   "cell_type": "code",
   "execution_count": 4,
   "id": "74eea8c7",
   "metadata": {
    "scrolled": false
   },
   "outputs": [
    {
     "data": {
      "text/plain": [
       "['UVW',\n",
       " 'FLAG',\n",
       " 'FLAG_CATEGORY',\n",
       " 'WEIGHT',\n",
       " 'SIGMA',\n",
       " 'ANTENNA1',\n",
       " 'ANTENNA2',\n",
       " 'ARRAY_ID',\n",
       " 'DATA_DESC_ID',\n",
       " 'EXPOSURE',\n",
       " 'FEED1',\n",
       " 'FEED2',\n",
       " 'FIELD_ID',\n",
       " 'FLAG_ROW',\n",
       " 'INTERVAL',\n",
       " 'OBSERVATION_ID',\n",
       " 'PROCESSOR_ID',\n",
       " 'SCAN_NUMBER',\n",
       " 'STATE_ID',\n",
       " 'TIME',\n",
       " 'TIME_CENTROID',\n",
       " 'DATA']"
      ]
     },
     "execution_count": 4,
     "metadata": {},
     "output_type": "execute_result"
    }
   ],
   "source": [
    "tab.colnames()"
   ]
  },
  {
   "cell_type": "markdown",
   "id": "1b2bb5d8",
   "metadata": {},
   "source": [
    "| Column | Descreption |\n",
    "|:-----------|:-------------|    \n",
    "| ANTENNA1 |\tFirst antenna in baseline |   \n",
    "| ANTENNA2\t| Second antenna in baseline |  \n",
    "| FIELD_ID\t| Field (source no.) identification |  \n",
    "| DATA_DESC_ID |\tSpectral window number, polarization identifier pair (IF no.) |  \n",
    "| ARRAY_ID\t| Subarray number |  \n",
    "| OBSERVATION_ID\t| Observation identification |  \n",
    "| POLARIZATION_ID |\tPolarization identification |  \n",
    "| SCAN_NUMBER |\tScan number |  \n",
    "| TIME  |\tIntegration midpoint time |  \n",
    "| UVW\t| UVW coordinates |  \n",
    "| DATA | complex visbility data |\n",
    "\n",
    "\n",
    "These data in these columns can then be accessed through the `tab.getcol()` function which takes the name of a column and returns the data in requested column (numpy array). For example, to get the observed data we run"
   ]
  },
  {
   "cell_type": "code",
   "execution_count": 6,
   "id": "01793ef2",
   "metadata": {},
   "outputs": [],
   "source": [
    "data = tab.getcol('DATA')"
   ]
  },
  {
   "cell_type": "markdown",
   "id": "a49d2500",
   "metadata": {},
   "source": [
    "Next, let's see the shape this data"
   ]
  },
  {
   "cell_type": "code",
   "execution_count": 7,
   "id": "0cfb2859",
   "metadata": {},
   "outputs": [
    {
     "data": {
      "text/plain": [
       "(23820, 608, 2)"
      ]
     },
     "execution_count": 7,
     "metadata": {},
     "output_type": "execute_result"
    }
   ],
   "source": [
    "data.shape"
   ]
  },
  {
   "cell_type": "markdown",
   "id": "bfc89fad",
   "metadata": {},
   "source": [
    "This array has 23820 rows, 608 frequency channels and 2 correlations. The rows are the *number of baselines $\\times$ number of time samples*. \n",
    "\n",
    "The measurement set also has multiple subtables which hold more detailed information about some of the data in the columns. These are:\n",
    "\n",
    "POLARIZATION  \n",
    "PROCESSOR  \n",
    "SPECTRAL_WINDOW  \n",
    "POINTING  \n",
    "DATA_DESCRIPTION  \n",
    "STATE  \n",
    "HISTORY  \n",
    "SOURCE  \n",
    "ANTENNA  \n",
    "FIELD  \n",
    "FEED  \n",
    "FLAG_CMD  \n",
    "OBSERVATION  \n",
    "\n",
    "Let us open the ANTENNA and use it to verify that the number of rows is the product of the time samples and the number of baselines"
   ]
  },
  {
   "cell_type": "code",
   "execution_count": 8,
   "id": "03e297a0",
   "metadata": {},
   "outputs": [
    {
     "name": "stdout",
     "output_type": "stream",
     "text": [
      "Successful readonly open of default-locked table kat-7-small.ms::ANTENNA: 8 columns, 6 rows\n",
      "Table: /home/shreyam/Documents/EPFL/RadioSkyII/RadioSkyII_JupyterNotebooks_ScratchDirectory/Week5/kat-7-small.ms/ANTENNA\n",
      "6 rows\n",
      "8 columns: OFFSET POSITION TYPE DISH_DIAMETER FLAG_ROW MOUNT NAME STATION\n"
     ]
    }
   ],
   "source": [
    "anttab = table(f\"{vis}::ANTENNA\")\n",
    "print(anttab)"
   ]
  },
  {
   "cell_type": "markdown",
   "id": "10c787d1",
   "metadata": {},
   "source": [
    "This table has 6 rows, one for each antenna. The MS therefore has 6 antennas, and 6(6-1)/2 baselines"
   ]
  },
  {
   "cell_type": "code",
   "execution_count": 9,
   "id": "4396f27e",
   "metadata": {},
   "outputs": [],
   "source": [
    "baselines = 6*(6-1)/2"
   ]
  },
  {
   "cell_type": "markdown",
   "id": "faf61a4c",
   "metadata": {},
   "source": [
    "The number of time samples can be obtained from the TIME column of the main table `tab`. But note that each time sample will have a measurement for each baselines, therefore we must only consider unique times from this array"
   ]
  },
  {
   "cell_type": "code",
   "execution_count": 10,
   "id": "8bd93cf6",
   "metadata": {},
   "outputs": [
    {
     "name": "stdout",
     "output_type": "stream",
     "text": [
      "This MS has 23820, and 1588 of them are unique\n"
     ]
    }
   ],
   "source": [
    "times = tab.getcol('TIME')\n",
    "unique_times = numpy.unique(times)\n",
    "\n",
    "ntimes = len(times)\n",
    "utimes = len(unique_times)\n",
    "\n",
    "print(f\"This MS has {ntimes}, and {utimes} of them are unique\")"
   ]
  },
  {
   "cell_type": "markdown",
   "id": "69053b2c",
   "metadata": {},
   "source": [
    "If everything went well then this expression should return 'True'"
   ]
  },
  {
   "cell_type": "code",
   "execution_count": 10,
   "id": "389d77ad",
   "metadata": {},
   "outputs": [
    {
     "data": {
      "text/plain": [
       "True"
      ]
     },
     "execution_count": 10,
     "metadata": {},
     "output_type": "execute_result"
    }
   ],
   "source": [
    "baselines == ntimes/utimes"
   ]
  },
  {
   "cell_type": "markdown",
   "id": "2ffe25b3",
   "metadata": {},
   "source": [
    "Now, let us plot the $uv$ coordinates of the baselines between the antennas indexed 3 and 4"
   ]
  },
  {
   "cell_type": "code",
   "execution_count": 11,
   "id": "068f511b",
   "metadata": {},
   "outputs": [
    {
     "data": {
      "text/plain": [
       "Text(0, 0.5, 'v (m)')"
      ]
     },
     "execution_count": 11,
     "metadata": {},
     "output_type": "execute_result"
    },
    {
     "data": {
      "image/png": "[encoded data removed]",
      "text/plain": [
       "<Figure size 432x288 with 1 Axes>"
      ]
     },
     "metadata": {
      "needs_background": "light"
     },
     "output_type": "display_data"
    }
   ],
   "source": [
    "A1 = tab.getcol(\"ANTENNA1\")\n",
    "A2 = tab.getcol(\"ANTENNA2\")\n",
    "uvw = tab.getcol(\"UVW\")\n",
    "bl_34 = numpy.logical_and(A1==3, A2==4)\n",
    "vis_34 = uvw[bl_34]\n",
    "\n",
    "pylab.plot(vis_34[:,0], vis_34[:,1], '.')\n",
    "pylab.xlabel(\"u (m)\")\n",
    "pylab.ylabel(\"v (m)\")"
   ]
  },
  {
   "cell_type": "markdown",
   "id": "57b1cd34",
   "metadata": {},
   "source": [
    "Note that these are the coordinates for all the fields in the MS. To get the uv coordinates for the field indexed zero, we need to add another condition"
   ]
  },
  {
   "cell_type": "code",
   "execution_count": 12,
   "id": "a6dd5000",
   "metadata": {},
   "outputs": [
    {
     "data": {
      "text/plain": [
       "Text(0, 0.5, 'v (m)')"
      ]
     },
     "execution_count": 12,
     "metadata": {},
     "output_type": "execute_result"
    },
    {
     "data": {
      "image/png": "[encoded data removed]",
      "text/plain": [
       "<Figure size 432x288 with 1 Axes>"
      ]
     },
     "metadata": {
      "needs_background": "light"
     },
     "output_type": "display_data"
    }
   ],
   "source": [
    "FID = tab.getcol(\"FIELD_ID\")\n",
    "bl_34_field_0 = numpy.logical_and(bl_34, FID==0)\n",
    "vis_34_field_0 = uvw[bl_34_field_0]\n",
    "pylab.plot(vis_34_field_0[:,0], vis_34_field_0[:,1], '.')\n",
    "pylab.xlabel(\"u (m)\")\n",
    "pylab.ylabel(\"v (m)\")"
   ]
  },
  {
   "cell_type": "markdown",
   "id": "ad111bad",
   "metadata": {},
   "source": [
    "Now, let's colour the point according to the visibility amplitude, and add a colourbar."
   ]
  },
  {
   "cell_type": "code",
   "execution_count": 13,
   "id": "5625800c",
   "metadata": {},
   "outputs": [
    {
     "data": {
      "text/plain": [
       "<matplotlib.colorbar.Colorbar at 0x7fed7b85b370>"
      ]
     },
     "execution_count": 13,
     "metadata": {},
     "output_type": "execute_result"
    },
    {
     "data": {
      "image/png": "[encoded data removed]",
      "text/plain": [
       "<Figure size 432x288 with 2 Axes>"
      ]
     },
     "metadata": {
      "needs_background": "light"
     },
     "output_type": "display_data"
    }
   ],
   "source": [
    "# get amplitudes of visibilities for baseline 3,4 and field 0. Also select the first channel and correlation\n",
    "amp = abs(data[bl_34_field_0][:,0,0]) \n",
    "pylab.scatter(vis_34_field_0[:,0], vis_34_field_0[:,1], c=amp)\n",
    "pylab.xlabel(\"u (m)\")\n",
    "pylab.ylabel(\"v (m)\")\n",
    "pylab.colorbar()"
   ]
  },
  {
   "cell_type": "code",
   "execution_count": null,
   "id": "9917c17d",
   "metadata": {},
   "outputs": [],
   "source": []
  },
  {
   "cell_type": "code",
   "execution_count": null,
   "id": "c5014894",
   "metadata": {},
   "outputs": [],
   "source": []
  }
 ],
 "metadata": {
  "kernelspec": {
   "display_name": "Python 3 (ipykernel)",
   "language": "python",
   "name": "python3"
  },
  "language_info": {
   "codemirror_mode": {
    "name": "ipython",
    "version": 3
   },
   "file_extension": ".py",
   "mimetype": "text/x-python",
   "name": "python",
   "nbconvert_exporter": "python",
   "pygments_lexer": "ipython3",
   "version": "3.8.3"
  }
 },
 "nbformat": 4,
 "nbformat_minor": 5
}
