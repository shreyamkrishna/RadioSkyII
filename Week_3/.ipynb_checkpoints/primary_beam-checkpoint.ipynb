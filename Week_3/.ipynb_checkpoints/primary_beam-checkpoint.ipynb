{
 "cells": [
  {
   "cell_type": "markdown",
   "metadata": {},
   "source": [
    "Import standard modules:"
   ]
  },
  {
   "cell_type": "code",
   "execution_count": 1,
   "metadata": {},
   "outputs": [
    {
     "data": {
      "text/html": [
       "<style>\n",
       "\n",
       "p.prerequisites {\n",
       "    border:5px;\n",
       "    border-style:none;\n",
       "    background-color:#F0F0F0;\n",
       "    box-shadow: 5px 5px 2px #888888;\n",
       "    border-color:#FF0000;\n",
       "    padding: 1em;\n",
       "    }\n",
       "\n",
       "p.conclusion {\n",
       "    border:5px;\n",
       "    border-style:none;\n",
       "    background-color:#c8ebca;\n",
       "    box-shadow: 5px 5px 2px #888888;\n",
       "    border-color:#c8ebca;\n",
       "    padding: 1em;\n",
       "    }\n",
       "\n",
       "div.warn {    \n",
       "    background-color: #fcf2f2;\n",
       "    border-color: #dFb5b4;\n",
       "    border-left: 5px solid #dfb5b4;\n",
       "    padding: 0.5em;\n",
       "    }\n",
       "\n",
       "div.advice {    \n",
       "    background-color: #ecf8ed;\n",
       "    border-color: #a2dda5;\n",
       "    border-left: 5px solid #a2dda5;\n",
       "    padding: 0.5em;\n",
       "    }\n",
       "\n",
       "</style>\n",
       "\n"
      ],
      "text/plain": [
       "<IPython.core.display.HTML object>"
      ]
     },
     "execution_count": 1,
     "metadata": {},
     "output_type": "execute_result"
    }
   ],
   "source": [
    "import numpy as np\n",
    "import matplotlib.pyplot as plt\n",
    "%matplotlib inline\n",
    "from IPython.display import HTML \n",
    "HTML('../style/course.css') #apply general CSS"
   ]
  },
  {
   "cell_type": "markdown",
   "metadata": {},
   "source": [
    "Import section specific modules:"
   ]
  },
  {
   "cell_type": "code",
   "execution_count": 2,
   "metadata": {},
   "outputs": [],
   "source": [
    "from IPython.display import Image"
   ]
  },
  {
   "cell_type": "code",
   "execution_count": 3,
   "metadata": {},
   "outputs": [
    {
     "data": {
      "text/html": [
       "<script>\n",
       "    code_show=false; \n",
       "    function code_toggle() {\n",
       "        if (code_show){\n",
       "            $('div.input').hide();\n",
       "        } else {\n",
       "            $('div.input').show();\n",
       "        }\n",
       "        code_show = !code_show\n",
       "    } \n",
       "    $( document ).ready(code_toggle);\n",
       "</script>\n",
       "\n",
       "The raw code for this notebook is by default hidden for easier reading. To toggle on/off the raw code, click <a href=\"javascript:code_toggle()\">here</a>.\n",
       "\n"
      ],
      "text/plain": [
       "<IPython.core.display.HTML object>"
      ]
     },
     "execution_count": 3,
     "metadata": {},
     "output_type": "execute_result"
    }
   ],
   "source": [
    "HTML('../style/code_toggle.html')"
   ]
  },
  {
   "cell_type": "markdown",
   "metadata": {},
   "source": [
    "## 1 The Primary Beam <a id='instrum:sec:pb'></a><!--\\label{instrum:sec:pb}-->"
   ]
  },
  {
   "cell_type": "markdown",
   "metadata": {},
   "source": [
    "The *primary beam* of an antenna (also known as its *radiation pattern*) is the directional dependence of the antenna's gain. \n",
    "\n",
    "The primary beam of the antenna is the most important direction-dependent propagation effect.\n",
    "\n",
    "It has a multiplicative effect in the image plane, and a convolutional effect in the visibility plane, due to the Fourier Transform relationship between the image and visibility planes."
   ]
  },
  {
   "cell_type": "markdown",
   "metadata": {},
   "source": [
    "![](figures/AntennaRadiationDiagram.png)\n",
    "\n",
    "**Figure 1**:Schematic diagram of an antenna radiation pattern (Image taken from [Wikipedia &#10142;](https://commons.wikimedia.org/wiki/File:Sidelobes_en.svg)).<a id='instrum:fig:rad_pat'></a><!--\\label{instrum:fig:rad_pat}-->"
   ]
  },
  {
   "cell_type": "markdown",
   "metadata": {},
   "source": [
    "**Example**: Primary beam of the JVLA (Jansky Very Large Array) \n",
    "\n",
    "For a JVLA antenna, the primary beam gain varies with direction at a given frequency (see Figures [1 &#10549;](#instrum:fig:jvla_pb) and [2 &#10549;](#instrum:fig:pb_horiz_xsec)), and with frequency towards a given direction (see Figures [3 &#10549;](#instrum:fig:pb_freq_gif) and [4 &#10549;](#instrum:fig:pb_gain_freq); the beam pattern scales with frequency, becoming more compact at higher frequencies). "
   ]
  },
  {
   "cell_type": "markdown",
   "metadata": {},
   "source": [
    "![](figures/PrimaryBeam_1410MHz_labeled.png)\n",
    "\n",
    "**Figure 2**: Primary beam of the JVLA at 1.41 GHz. <a id='instrum:fig:jvla_pb'></a> <!--\\label{instrum:fig:jvla_pb}-->"
   ]
  },
  {
   "cell_type": "markdown",
   "metadata": {},
   "source": [
    "![](figures/BGvsRadius.png)\n",
    "\n",
    "**Figure 3**: Gain across a horizontal cross section of the centre of the beam pattern shown in [2 &#10549;](#instrum:fig:jvla_pb). The peak at the centre corresponds to the *main lobe*, with the *first null* and the *first sidelobe* at larger radii. <a id='instrum:fig:pb_horiz_xsec'></a> <!--\\label{instrum:fig:pb_horiz_xsec}-->\n"
   ]
  },
  {
   "cell_type": "markdown",
   "metadata": {},
   "source": [
    "![](figures/beam_freq_variation.gif)\n",
    "**Figure 4**: Variation of the beam pattern for a JVLA antenna over the frequency range 1.3 $-$ 1.6 GHz. As the frequency increases, the beam pattern becomes more compact.<a id='instrum:fig:pb_freq_gif'></a> <!--\\label{instrum:fig:pb_freq_gif}-->"
   ]
  },
  {
   "cell_type": "markdown",
   "metadata": {},
   "source": [
    "![](figures/BGvsFreq.png)\n",
    "\n",
    "**Figure 5**: Frequency-dependent variation of the beam gain at the position of the source marked by a black dot in [Fig 4 &#10549;](#instrum:fig:pb_freq_gif).<a id='instrum:fig:pb_gain_freq'></a> <!--\\label{instrum:fig:pb_gain_freq}-->"
   ]
  },
  {
   "cell_type": "markdown",
   "metadata": {},
   "source": [
    "A JVLA antenna, which has an [alt-azimuth mount](7_5_primary_beam.ipynb#instrum:sec:ant_mounts)<span style=\"background-color:red\">"
   ]
  },
  {
   "cell_type": "markdown",
   "metadata": {},
   "source": [
    " ![](figures/AltAzAntennaRotation.png)\n",
    "\n",
    "**Figure 6**: Relative rotation of the primary beam pattern w.r.t. the sky over the course of an observation. The blue and green sources experience different beam gains at different times, while the beam gain for the red source at the phase centre remains unchanged. <a id='instrum:fig:pb_rot_sky'></a><!--\\label{instrum:fig:pb_rot_sky}-->\n"
   ]
  },
  {
   "cell_type": "markdown",
   "metadata": {},
   "source": [
    "The rotation of the primary beam causes the beam gain in a given direction to vary with time."
   ]
  },
  {
   "cell_type": "markdown",
   "metadata": {
    "collapsed": true
   },
   "source": [
    " ![](figures/beam_rotate.gif)\n",
    "\n",
    "**Figure 7**: Rotation of the beam pattern in [Figure 2](#instrum:fig:jvla_pb) over the course of an observation. <a id='instrum:fig:pb_rot_gif'></a><!--\\label{instrum:fig:pb_rot_gif}-->"
   ]
  },
  {
   "cell_type": "markdown",
   "metadata": {},
   "source": [
    "![](figures/BGvsHA.png)\n",
    "\n",
    "**Figure 8**: Variation of the beam gain as a function of the hour angle at the position of the source marked by a black dot in [Fig 7 &#10549;](#instrum:fig:pb_rot_gif). <a id='instrum:fig:pb_gain_rot'></a> <!--\\label{instrum:fig:pb_gain_rot}-->"
   ]
  },
  {
   "cell_type": "markdown",
   "metadata": {},
   "source": [
    "## 2 Antenna mounts and parallactic angle <a id='instrum:sec:mounts_and_pa'></a> <!--\\label{instrum:sec:mounts_and_pa}-->\n",
    "\n"
   ]
  },
  {
   "cell_type": "markdown",
   "metadata": {},
   "source": [
    "### 2.1 Antenna mounts <a id='instrum:sec:ant_mounts'></a><!--\\label{instrum:sec:ant_mounts}-->\n",
    "\n",
    "Antenna mounts can be of two types:\n",
    "1. Alt-azimuth mount\n",
    "1. Equatorial mount"
   ]
  },
  {
   "cell_type": "markdown",
   "metadata": {},
   "source": [
    "An antenna with an *alt-azimuth mount* tracks a source in the sky by rotating along two axes - altitude (vertical) and azimuth (vertical). \n",
    "\n",
    "An antenna with an *equatorial mount* tracks a source by rotating about the polar axis (i.e., an axis which points towards the celestial pole)."
   ]
  },
  {
   "cell_type": "markdown",
   "metadata": {},
   "source": [
    "![](figures/antenna_mounts.png)\n",
    "\n",
    "**Figure 9**: Alt-azimuth and equatorial mounts illustrated for the case of an optical telescope (Image taken from [oasi.org &#10142;](http://www.oasi.org.uk/Telescopes/CFTOB/Mounts.gif)). <a id='instrum:fig:ant_mounts'></a><!--\\label{instrum:fig:ant_mounts}-->"
   ]
  },
  {
   "cell_type": "markdown",
   "metadata": {},
   "source": [
    "For an antenna with an alt-azimuth mount, the antenna primary beam rotates relative to the sky during the course of an observation. For an equatorially-mounted antenna, the relative orientation of the antenna primary beam and the sky remains unchanged throughout the course of an observation."
   ]
  },
  {
   "cell_type": "markdown",
   "metadata": {},
   "source": [
    "![](figures/AltAzAntennaRotation.png)\n",
    "\n",
    "**Figure 10**: Relative rotation of the beam and the sky during the course of an observation, for an antenna with an alt-azimuth mount. <a id='instrum:fig:altaz'></a><!--\\label{instrum:fig:altaz}-->\n"
   ]
  },
  {
   "cell_type": "markdown",
   "metadata": {},
   "source": [
    "![](figures/EquatorialAntennaRotation.png)\n",
    "\n",
    "**Figure 11**: Relative rotation of the beam and the sky during the course of an observation, for an antenna with an equatorial mount. <a id='instrum:fig:equatorial'></a><!--\\label{instrum:fig:equatorial}-->"
   ]
  },
  {
   "cell_type": "markdown",
   "metadata": {},
   "source": [
    "### 2.2 Parallactic angle <a id='instrum:sec:pa'></a><!--\\label{instrum:sec:pa}-->"
   ]
  },
  {
   "cell_type": "markdown",
   "metadata": {},
   "source": [
    "The *parallactic angle* is the spherical angle between two great circles on the celestial sphere - one passing through the source and the zenith, and the other passing through the source and the north celestial pole."
   ]
  },
  {
   "cell_type": "markdown",
   "metadata": {},
   "source": [
    "![](figures/ParallacticAngle.png)\n",
    "\n",
    "**Figure 11**: Parallactic angle <a id='instrum:fig:pa'></a><!--\\label{instrum:fig:pa}-->\n",
    "\n",
    "The parallactic angle is given by\n",
    "\n",
    "$$\n",
    "q = \\arctan \\bigg( \\frac{\\sin(HA)}{\\tan(L_a)\\cos(\\delta)-\\sin(\\delta)\\cos(HA)} \\bigg) \n",
    "$$\n",
    "\n",
    "where \n",
    "\n",
    "$q$ is the parallactic angle,\n",
    "\n",
    "$HA$ is the hour angle of the source,\n",
    "\n",
    "$\\delta$ is the declination of the source,\n",
    "\n",
    "$L_a$ is the latitude of the observer."
   ]
  }
 ],
 "metadata": {
  "kernelspec": {
   "display_name": "Python 3 (ipykernel)",
   "language": "python",
   "name": "python3"
  },
  "language_info": {
   "codemirror_mode": {
    "name": "ipython",
    "version": 3
   },
   "file_extension": ".py",
   "mimetype": "text/x-python",
   "name": "python",
   "nbconvert_exporter": "python",
   "pygments_lexer": "ipython3",
   "version": "3.8.3"
  }
 },
 "nbformat": 4,
 "nbformat_minor": 1
}
